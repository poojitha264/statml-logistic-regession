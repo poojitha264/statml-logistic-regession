{
  "nbformat": 4,
  "nbformat_minor": 0,
  "metadata": {
    "colab": {
      "provenance": []
    },
    "kernelspec": {
      "name": "python3",
      "display_name": "Python 3"
    },
    "language_info": {
      "name": "python"
    }
  },
  "cells": [
    {
      "cell_type": "code",
      "execution_count": null,
      "metadata": {
        "id": "9LQfUDTTAmLW"
      },
      "outputs": [],
      "source": [
        "import pandas as pd\n",
        "z=pd.read_csv(\"/content/breast_cancer_csv.csv\")\n",
        "y=z[\"Patient_Status\"]\n",
        "drp=['Histology','Date_of_Surgery','Date_of_Last_Visit',\"Gender\"]\n",
        "x=z.drop(columns=drp)\n",
        "z.to_csv('/content/breast_cancer_csv.csv',index=False)\n",
        "print(x)\n",
        "x['Tumour_Stage'] = x['Tumour_Stage'].map({'I': 1, 'II': 0})\n",
        "x.to_csv(\"updated_breast_cancer_survival.csv\",index=False)\n",
        "print(x)\n",
        "x['ER status'] = x['ER status'].map({'Positive': 1, 'Negative': 0})\n",
        "x.to_csv(\"updated_breast_cancer_survival.csv\",index=False)\n",
        "print(x)\n",
        "x['PR status'] = x['PR status'].map({'Positive': 1, 'Negative': 0})\n",
        "x.to_csv(\"updated_breast_cancer_survival.csv\",index=False)\n",
        "print(x)\n",
        "x['HER2 status'] = x['HER2 status'].map({'Positive': 1, 'Negative': 0})\n",
        "x.to_csv(\"updated_breast_cancer_survival.csv\",index=False)\n",
        "print(x)\n",
        "x['Patient_Status'] = x['Patient_Status'].map({'Alive': 1, 'Dead': 0})\n",
        "x.to_csv(\"updated_breast_cancer_survival.csv\",index=False)\n",
        "print(x)\n",
        "\n",
        "import pandas as pd\n",
        "from sklearn.model_selection import train_test_split\n",
        "from sklearn.linear_model import LinearRegression\n",
        "from sklearn.linear_model import LogisticRegression\n",
        "from sklearn.preprocessing import LabelEncoder\n",
        "from sklearn.metrics import classification_report\n",
        "a=pd.read_csv('/content/breast_cancer_csv.csv')\n",
        "a['Patient_Status'] = a['Patient_Status'].fillna(0)\n",
        "y=a[\"Patient_Status\"]\n",
        "x= a.drop(\"Patient_Status\", axis='columns')\n",
        "k=a.drop(\"Histology\",axis='columns')\n",
        "k=k.drop(\"Surgery_type\",axis='columns')\n",
        "k=k.drop(\"Date_of_Surgery\",axis='columns')\n",
        "k=k.drop(\"Date_of_Last_Visit\",axis='columns')\n",
        "k['Tumour_Stage']=k['Tumour_Stage'].replace({'I': 0, 'II': 1,'III':2})\n",
        "k['Gender']=k['Gender'].replace({'MALE': 0, 'FEMALE': 1})\n",
        "k['ER status']=k['ER status'].replace({'Negative': 0, 'Positive': 1})\n",
        "k['HER2 status']=k['HER2 status'].replace({'Negative': 0, 'Positive': 1})\n",
        "k['PR status']=k['PR status'].replace({'Negative': 0, 'Positive': 1})\n",
        "k['Patient_Status']=k['Patient_Status'].replace({'Alive': 1, 'Dead': 0})\n",
        "y=k[\"Patient_Status\"]\n",
        "x= k.drop(\"Patient_Status\", axis='columns')\n",
        "print(k)\n",
        "from sklearn.metrics import accuracy_score\n",
        "test_sizes = [0.2, 0.3, 0.4]\n",
        "x_train,x_test,y_train,y_test=train_test_split(x,y, test_size=0.2, random_state=42)\n",
        "model = LogisticRegression()\n",
        "model.fit(x_train, y_train)\n",
        "\n",
        "\n",
        "y_pred = model.predict(x_test)\n",
        "\n",
        "\n",
        "print(classification_report(y_test, y_pred))\n",
        "accuracy = accuracy_score(y_test, y_pred)\n",
        "print(f\"Test Size: {test_sizes}, Accuracy: {accuracy:.4f}\")"
      ]
    }
  ]
}